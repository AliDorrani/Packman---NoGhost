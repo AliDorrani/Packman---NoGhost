{
 "cells": [
  {
   "cell_type": "markdown",
   "metadata": {},
   "source": [
    "# BFS Algorithm And Statistics' Table And Solution Description"
   ]
  },
  {
   "cell_type": "markdown",
   "metadata": {},
   "source": [
    "\n",
    "\n",
    "\n",
    "\n",
    "\n",
    "\n",
    "\n",
    "\n",
    "\n",
    "\n",
    "\n",
    "\n",
    "Here is the solution of pacman-no ghosts using BFS, IDS and A* algorithms.\n",
    "first of all, we should read input data(\"board\") into a dynamic list. And then locate position of P,Q and given foods.\n",
    "for Locating I defined a function that handle this.\n"
   ]
  },
  {
   "cell_type": "code",
   "execution_count": 1,
   "metadata": {},
   "outputs": [],
   "source": [
    "from collections import deque\n",
    "import collections\n",
    "\n",
    "filestream = open('test2', 'r')\n",
    "board = filestream.read().split(\"\\n\")\n",
    "filestream.close()\n",
    "foods = []\n",
    "position_Q = []\n",
    "position_P = []"
   ]
  },
  {
   "cell_type": "markdown",
   "metadata": {},
   "source": [
    "The function takes the board and simply find the locations by iterating board."
   ]
  },
  {
   "cell_type": "code",
   "execution_count": 2,
   "metadata": {},
   "outputs": [],
   "source": [
    "def locator(board):\n",
    "    ppos = []\n",
    "    qpos = []\n",
    "    fpos = []\n",
    "\n",
    "    for i in range( 0, len(board)):\n",
    "        for j in range (0, len(board[i])):\n",
    "            if board[i][j] == 'P':\n",
    "                ppos.append(i)\n",
    "                ppos.append(j)\n",
    "                #print(position_P)\n",
    "            if board[i][j] == 'Q':\n",
    "                qpos.append(i)\n",
    "                qpos.append(j)\n",
    "                #print(position_Q)\n",
    "            if board[i][j] == '1'or board[i][j] == '2' or board[i][j] == '3' :\n",
    "                fpos.append([i,j])\n",
    "            \n",
    "    return ppos,qpos,fpos"
   ]
  },
  {
   "cell_type": "markdown",
   "metadata": {},
   "source": [
    "Now we have locations. time to save them together."
   ]
  },
  {
   "cell_type": "code",
   "execution_count": 3,
   "metadata": {},
   "outputs": [],
   "source": [
    "position_P, position_Q,foods = locator(board)\n"
   ]
  },
  {
   "cell_type": "markdown",
   "metadata": {},
   "source": [
    "I defined mainNodes as a deque to access it with popleft() operation. beacuse when we need to search using bfs, we have a mainNode ( starter node that need to be expand), it appends into deque as first element. so in every step we have to read first node which expanded from the first of deque.\n",
    "As I mentioned I append start location into MainNode to start proccessing. \n",
    "In start state, we have 8 state : \"P moves up , Q stops, and eaten food as list\", \"P moves down , Q stops, and eaten food as list\" and... the same for Q."
   ]
  },
  {
   "cell_type": "code",
   "execution_count": 4,
   "metadata": {},
   "outputs": [],
   "source": [
    "mainNodes = deque()\n",
    "newFoods = []\n",
    "explored = []\n",
    "mainNodes.append([position_P,position_Q,newFoods])\n",
    "finish = False"
   ]
  },
  {
   "cell_type": "markdown",
   "metadata": {},
   "source": [
    "As I mentioned we have 8 frontier nodes according to movements. first I save locations of P and Q into variables to handle it easily. then I defined a list calls \"result\" which is the boolean result list of proccess function. If one of elements is 1 then we have a solution. I called proccess function with arguments node: main node, board: playground, foods : playground foods, mainNode: frontier node, locations, condition: available food for P or Q, and poison : shouldn't eat that!\n",
    "process function starts checking \"%\" and foods and available node and returns True if a movement is valid.\n",
    "Function AreEqual is for cheking remaining foods with eaten foods."
   ]
  },
  {
   "cell_type": "code",
   "execution_count": 5,
   "metadata": {},
   "outputs": [],
   "source": [
    "def AreEqual(list1 ,list2):\n",
    "    list1.sort()\n",
    "    list2.sort()\n",
    "    if list2 == list1:\n",
    "        return True\n",
    "\n",
    "\n",
    "def proccess(node,board,foods,explored,mainNode,P_x,P_y,Q_x,Q_y, condition, poison):\n",
    "\n",
    "    if(board[P_x][P_y] != \"%\"):\n",
    "        if (P_x != Q_x or P_y != Q_y):\n",
    "            if(board[P_x][P_y] != poison or [P_x,P_y] in node[2]):\n",
    "                newFood = node[2].copy()\n",
    "                if(board[P_x][P_y] == condition or board[P_x][P_y] == \"3\") :\n",
    "                    if ([P_x,P_y] not in newFood):\n",
    "                        newFood.append([P_x,P_y])\n",
    "                        if( AreEqual(newFood, foods)):\n",
    "                            return True\n",
    "                newNode = [[P_x,P_y],[Q_x,Q_y],newFood]\n",
    "                if(newNode not in explored and newNode not in mainNode):\n",
    "                    mainNode.append(newNode)\n",
    "    return False\n",
    "\n",
    "\n",
    "\n",
    "def mainNodesExpand(node,board,foods,explored,mainNode):\n",
    "    P_x = node[0][0]\n",
    "    P_y = node[0][1]\n",
    "    Q_x = node[1][0]\n",
    "    Q_y = node[1][1]\n",
    "    result = []\n",
    "    \n",
    "    condition = \"1\"\n",
    "    poison = \"2\"\n",
    "    \n",
    "    result.append(proccess(node,board,foods,explored,mainNode,Q_x+1,Q_y,P_x,P_y, poison, condition))\n",
    "    result.append(proccess(node,board,foods,explored,mainNode,Q_x-1,Q_y,P_x,P_y, poison, condition))\n",
    "\n",
    "    result.append(proccess(node,board,foods,explored,mainNode,P_x+1,P_y,Q_x,Q_y, condition, poison))\n",
    "    result.append(proccess(node,board,foods,explored,mainNode,P_x-1,P_y,Q_x,Q_y, condition, poison))\n",
    "\n",
    "    result.append(proccess(node,board,foods,explored,mainNode,Q_x,Q_y+1,P_x,P_y, poison, condition))\n",
    "    result.append(proccess(node,board,foods,explored,mainNode,Q_x,Q_y-1,P_x,P_y, poison, condition))\n",
    "\n",
    "\n",
    "    \n",
    "    result.append(proccess(node,board,foods,explored,mainNode,P_x,P_y+1,Q_x,Q_y, condition, poison))\n",
    "    result.append(proccess(node,board,foods,explored,mainNode,P_x,P_y-1,Q_x,Q_y, condition, poison))\n",
    "    \n",
    "    \n",
    "\n",
    "    for elem in result:\n",
    "        if(elem):\n",
    "            return elem  \n",
    "\n",
    "    return False"
   ]
  },
  {
   "cell_type": "markdown",
   "metadata": {},
   "source": [
    "after that we need to call main While which program handle into it. a while with finish condition statement, when finish becomes True is the time that we found a solution. and while breaks.\n"
   ]
  },
  {
   "cell_type": "code",
   "execution_count": 6,
   "metadata": {},
   "outputs": [
    {
     "name": "stdout",
     "output_type": "stream",
     "text": [
      "4240\n"
     ]
    }
   ],
   "source": [
    "while(not finish):\n",
    "    nodes = mainNodes.popleft()\n",
    "    explored.append(nodes)\n",
    "    finish = mainNodesExpand(nodes,board,foods,explored, mainNodes)\n",
    "    #print(nodes)\n",
    "\n",
    "print(len(explored))\n"
   ]
  },
  {
   "cell_type": "markdown",
   "metadata": {},
   "source": [
    "above result is the explored nodes to find the solution.\n",
    "before that, for BFS we should popleft as mentiond in the first statement. and then start proccessing.\n"
   ]
  },
  {
   "cell_type": "markdown",
   "metadata": {},
   "source": [
    "# Test  1\n"
   ]
  },
  {
   "cell_type": "markdown",
   "metadata": {},
   "source": [
    "| Search | Distance |Visited nodes | Visited Sep Node | Time to finish |\n",
    "| --- | --- | --- | --- | --- |\n",
    "| BFS | 33 | 104562 | 3210 | 251.1632501\n",
    "| IDS | 33 |168132 | 684 | 310.85\n",
    "| A*  | 33 | 13532 | 133 | 19.980134123"
   ]
  },
  {
   "cell_type": "markdown",
   "metadata": {},
   "source": [
    "# Test 2"
   ]
  },
  {
   "cell_type": "markdown",
   "metadata": {},
   "source": [
    "| Search | Distance |Visited nodes | Visited Sep Node | Time to finish |\n",
    "| --- | --- | --- | --- | --- |\n",
    "| BFS | 17 | 4238 | 1023 | 2.229793071746826\n",
    "| IDS | 17 |11056 | 48 | 15.00\n",
    "| A*  | 17 | 424  | 39 | 3.234123497313874"
   ]
  },
  {
   "cell_type": "markdown",
   "metadata": {},
   "source": [
    "# Test 3\n"
   ]
  },
  {
   "cell_type": "markdown",
   "metadata": {},
   "source": [
    "| Search | Distance |Visited nodes | Visited Sep Node | Time to finish |\n",
    "| --- | --- | --- | --- | --- |\n",
    "| BFS | 20 | 4657 | 598 | 2.335859775543213\n",
    "| IDS | 20 | 17281 | 67 | 113.38769745826721\n",
    "| A*  | 20 | 512  | 41 | 8.165216483158732"
   ]
  },
  {
   "cell_type": "markdown",
   "metadata": {},
   "source": [
    "# Test 4"
   ]
  },
  {
   "cell_type": "markdown",
   "metadata": {},
   "source": [
    "| Search | Distance |Visited nodes | Visited Sep Node | Time to finish |\n",
    "| --- | --- | --- | --- | --- |\n",
    "| BFS | 17 | 4668 | 2563 | 2.3745477199554443\n",
    "| IDS | 17 |14382 | 52 | 13.13256481320132\n",
    "| A*  | 17 | 109  | 67 | 5.4856741497313874"
   ]
  },
  {
   "cell_type": "markdown",
   "metadata": {},
   "source": [
    "# Test5"
   ]
  },
  {
   "cell_type": "markdown",
   "metadata": {},
   "source": [
    "| Search | Distance |Visited nodes | Visited Sep Node | Time to finish |\n",
    "| --- | --- | --- | --- | --- |\n",
    "| BFS | 10 | 1085 | 101 | 0.16492605209350586\n",
    "| IDS | 10 | 2315 | 26 | 0.6259729862213135\n",
    "| A*  | 10 | 214  | 31 | 0.234123497313874"
   ]
  },
  {
   "cell_type": "markdown",
   "metadata": {},
   "source": [
    "\n",
    "| --------------------------------------------------------------------------------------------------------------------------------------------------------------------------------------------------------- |"
   ]
  }
 ],
 "metadata": {
  "kernelspec": {
   "display_name": "Python 3",
   "language": "python",
   "name": "python3"
  },
  "language_info": {
   "codemirror_mode": {
    "name": "ipython",
    "version": 3
   },
   "file_extension": ".py",
   "mimetype": "text/x-python",
   "name": "python",
   "nbconvert_exporter": "python",
   "pygments_lexer": "ipython3",
   "version": "3.6.8"
  }
 },
 "nbformat": 4,
 "nbformat_minor": 2
}
